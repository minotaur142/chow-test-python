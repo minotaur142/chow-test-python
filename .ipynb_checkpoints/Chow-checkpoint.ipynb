{
 "cells": [
  {
   "cell_type": "code",
   "execution_count": 1,
   "metadata": {},
   "outputs": [
    {
     "name": "stderr",
     "output_type": "stream",
     "text": [
      "/Users/remycanario/anaconda3/lib/python3.7/site-packages/statsmodels/compat/pandas.py:23: FutureWarning: The Panel class is removed from pandas. Accessing it from the top-level namespace will also be removed in the next version\n",
      "  data_klasses = (pandas.Series, pandas.DataFrame, pandas.Panel)\n"
     ]
    }
   ],
   "source": [
    "import statsmodels.api as sm\n",
    "import pandas as pd\n",
    "from linearmodels.datasets import meps\n",
    "import scipy"
   ]
  },
  {
   "cell_type": "code",
   "execution_count": 2,
   "metadata": {},
   "outputs": [],
   "source": [
    "data = meps.load()\n",
    "data = data.dropna()\n",
    "y = data.income\n",
    "X = data.drop('income',axis=1)"
   ]
  },
  {
   "cell_type": "code",
   "execution_count": null,
   "metadata": {},
   "outputs": [],
   "source": [
    "#black\n",
    "X_b = X[X.black==1].drop('black',axis=1)\n",
    "y_b = data.income[X.black==1]\n",
    "X_nb = X[X.black==0].drop('black',axis=1)\n",
    "y_nb = data.income[X.black==0]\n",
    "X_b = sm.add_constant(X_b)\n",
    "X_nb = sm.add_constant(X_nb)\n",
    "J=X.shape[1]\n",
    "k=X_b.shape[1]\n",
    "N1 = X_b.shape[0]\n",
    "N2 = X_nb.shape[1]\n",
    "model_dummy = sm.OLS(y,X).fit()\n",
    "RSSd = model_dummy.ssr\n",
    "model_b = sm.OLS(y_b,X_b).fit()\n",
    "RSSb = model_b.ssr\n",
    "model_nb = sm.OLS(y_nb,X_nb).fit()\n",
    "RSSnb = model_nb.ssr\n",
    "chow = ((RSSd-(RSSb+RSSnb))/J)/((RSSb+RSSnb)/(N1+N2+2*k))\n",
    "scipy.stats.f.cdf(chow, J, N1+N2+2*k)"
   ]
  },
  {
   "cell_type": "code",
   "execution_count": 3,
   "metadata": {},
   "outputs": [
    {
     "name": "stderr",
     "output_type": "stream",
     "text": [
      "/Users/remycanario/anaconda3/lib/python3.7/site-packages/numpy/core/fromnumeric.py:2495: FutureWarning: Method .ptp is deprecated and will be removed in a future version. Use numpy.ptp instead.\n",
      "  return ptp(axis=axis, out=out, **kwargs)\n"
     ]
    },
    {
     "data": {
      "text/plain": [
       "0.9999999999999998"
      ]
     },
     "execution_count": 3,
     "metadata": {},
     "output_type": "execute_result"
    }
   ],
   "source": [
    "#female\n",
    "X_f = X[X.female==1].drop('black',axis=1)\n",
    "y_f = data.income[X.female==1]\n",
    "X_m = X[X.female==0].drop('black',axis=1)\n",
    "y_m = data.income[X.female==0]\n",
    "X_f = sm.add_constant(X_f)\n",
    "X_m = sm.add_constant(X_m)\n",
    "J=X.shape[1]\n",
    "k=X_f.shape[1]\n",
    "N1 = X_f.shape[0]\n",
    "N2 = X_m.shape[1]\n",
    "model_dummy = sm.OLS(y,X).fit()\n",
    "RSSd = model_dummy.ssr\n",
    "model_f = sm.OLS(y_f,X_f).fit()\n",
    "RSSb = model_f.ssr\n",
    "model_m = sm.OLS(y_m,X_m).fit()\n",
    "RSSnb = model_m.ssr\n",
    "chow = ((RSSd-(RSSb+RSSnb))/J)/((RSSb+RSSnb)/(N1+N2+2*k))\n",
    "scipy.stats.f.cdf(chow, J, N1+N2+2*k)"
   ]
  }
 ],
 "metadata": {
  "kernelspec": {
   "display_name": "Python 3",
   "language": "python",
   "name": "python3"
  },
  "language_info": {
   "codemirror_mode": {
    "name": "ipython",
    "version": 3
   },
   "file_extension": ".py",
   "mimetype": "text/x-python",
   "name": "python",
   "nbconvert_exporter": "python",
   "pygments_lexer": "ipython3",
   "version": "3.7.3"
  }
 },
 "nbformat": 4,
 "nbformat_minor": 2
}
